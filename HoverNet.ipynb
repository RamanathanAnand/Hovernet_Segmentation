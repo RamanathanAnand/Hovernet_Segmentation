{
  "nbformat": 4,
  "nbformat_minor": 0,
  "metadata": {
    "colab": {
      "provenance": [],
      "gpuType": "V100"
    },
    "kernelspec": {
      "name": "python3",
      "display_name": "Python 3"
    },
    "language_info": {
      "name": "python"
    },
    "accelerator": "GPU"
  },
  "cells": [
    {
      "cell_type": "code",
      "execution_count": null,
      "metadata": {
        "id": "Qin34JTIMCV3",
        "colab": {
          "base_uri": "https://localhost:8080/"
        },
        "outputId": "e5b6666c-ff04-4eaf-97a6-28d9bb841734"
      },
      "outputs": [
        {
          "output_type": "stream",
          "name": "stdout",
          "text": [
            "Drive already mounted at /content/drive; to attempt to forcibly remount, call drive.mount(\"/content/drive\", force_remount=True).\n"
          ]
        }
      ],
      "source": [
        "from google.colab import drive\n",
        "drive.mount('/content/drive')"
      ]
    },
    {
      "cell_type": "code",
      "source": [
        "import torch\n",
        "import os\n",
        "import torch.nn as nn\n",
        "import torch.optim as optim\n",
        "from torch.utils.data import DataLoader, Dataset\n",
        "from torchvision import transforms\n",
        "from tqdm import tqdm\n"
      ],
      "metadata": {
        "id": "n_MybhMUMRFE"
      },
      "execution_count": null,
      "outputs": []
    },
    {
      "cell_type": "code",
      "source": [
        "class HoverNet(nn.Module):\n",
        "    def __init__(self):\n",
        "        super(HoverNet, self).__init__()\n",
        "        # Define your HoverNet architecture here\n",
        "        self.conv1 = nn.Conv2d(3, 64, kernel_size=3, stride=1, padding=1)\n",
        "        self.conv2 = nn.Conv2d(64, 1, kernel_size=3, stride=1, padding=1)\n",
        "\n",
        "    def forward(self, x):\n",
        "        x = nn.functional.relu(self.conv1(x))\n",
        "        x = self.conv2(x)\n",
        "        return x"
      ],
      "metadata": {
        "id": "hJA5qHdNMRHj"
      },
      "execution_count": null,
      "outputs": []
    },
    {
      "cell_type": "code",
      "source": [
        "class CustomDataset(Dataset):\n",
        "    def __init__(self, image_folder, mask_folder, transform=None):\n",
        "        self.image_folder = image_folder\n",
        "        self.mask_folder = mask_folder\n",
        "        self.transform = transform\n",
        "\n",
        "        self.image_filenames = sorted(os.listdir(image_folder))\n",
        "        self.mask_filenames = sorted(os.listdir(mask_folder))\n",
        "\n",
        "    def __len__(self):\n",
        "        return len(self.image_filenames)\n",
        "\n",
        "    def __getitem__(self, idx):\n",
        "        img_name = os.path.join(self.image_folder, self.image_filenames[idx])\n",
        "        mask_name = os.path.join(self.mask_folder, self.mask_filenames[idx])\n",
        "\n",
        "        image = Image.open(img_name).convert(\"RGB\")\n",
        "        mask = Image.open(mask_name).convert(\"L\")  # Assuming masks are grayscale\n",
        "\n",
        "        if self.transform:\n",
        "            image = self.transform(image)\n",
        "            mask = self.transform(mask)\n",
        "\n",
        "        return image, mask"
      ],
      "metadata": {
        "id": "gMbIkaAkMRKC"
      },
      "execution_count": null,
      "outputs": []
    },
    {
      "cell_type": "code",
      "source": [
        "# Define transforms if needed\n",
        "transform = transforms.Compose([\n",
        "    transforms.Resize((128, 128)),  # Resize images and masks to the same size\n",
        "    transforms.ToTensor(),  # Convert images and masks to tensors\n",
        "])\n"
      ],
      "metadata": {
        "id": "kcuG2ilPMRMs"
      },
      "execution_count": null,
      "outputs": []
    },
    {
      "cell_type": "code",
      "source": [
        "# Define dataset and dataloader\n",
        "image_folder = '/content/drive/MyDrive/Hover/Images'\n",
        "mask_folder = '/content/drive/MyDrive/Hover/Mask'\n",
        "batch_size = 8\n",
        "learning_rate = 0.0001  # Set your desired learning rate value\n",
        "\n",
        "dataset = CustomDataset(image_folder=image_folder, mask_folder=mask_folder, transform=transform)\n",
        "dataloader = DataLoader(dataset, batch_size=batch_size, shuffle=True)"
      ],
      "metadata": {
        "id": "X1_PlPjOMRPK"
      },
      "execution_count": null,
      "outputs": []
    },
    {
      "cell_type": "code",
      "source": [
        "import torch.nn as nn\n",
        "import torch.optim as optim\n",
        "\n",
        "# Instantiate your HoverNet model\n",
        "hovernet = HoverNet()\n",
        "\n",
        "# Define the loss function (criterion) and optimizer\n",
        "criterion = nn.CrossEntropyLoss()\n",
        "optimizer = optim.Adam(hovernet.parameters(), lr=learning_rate)\n"
      ],
      "metadata": {
        "id": "TUlecF89MRRy"
      },
      "execution_count": null,
      "outputs": []
    },
    {
      "cell_type": "code",
      "source": [
        "num_epochs = 200  # Define the number of epochs for training\n",
        "from PIL import Image\n"
      ],
      "metadata": {
        "id": "JIALwXpEMRUi"
      },
      "execution_count": null,
      "outputs": []
    },
    {
      "cell_type": "code",
      "source": [
        "for epoch in range(num_epochs):\n",
        "    hovernet.train()  # Set model to training mode\n",
        "    for images, masks in tqdm(dataloader, desc=f'Epoch {epoch + 1}/{num_epochs}'):\n",
        "        optimizer.zero_grad()  # Zero the gradients\n",
        "        outputs = hovernet(images)  # Forward pass\n",
        "        loss = criterion(outputs, masks.float())  # Convert masks to float\n",
        "         # Calculate the loss\n",
        "        loss.backward()  # Backward pass\n",
        "        optimizer.step()  # Update weights\n"
      ],
      "metadata": {
        "colab": {
          "base_uri": "https://localhost:8080/"
        },
        "id": "kp9uc221MRW7",
        "outputId": "9065fe83-be82-4dce-f3f5-16535f804f2a"
      },
      "execution_count": null,
      "outputs": [
        {
          "output_type": "stream",
          "name": "stderr",
          "text": [
            "Epoch 1/200: 100%|██████████| 3/3 [00:24<00:00,  8.22s/it]\n",
            "Epoch 2/200: 100%|██████████| 3/3 [00:01<00:00,  1.91it/s]\n",
            "Epoch 3/200: 100%|██████████| 3/3 [00:01<00:00,  2.21it/s]\n",
            "Epoch 4/200: 100%|██████████| 3/3 [00:01<00:00,  2.18it/s]\n",
            "Epoch 5/200: 100%|██████████| 3/3 [00:01<00:00,  2.16it/s]\n",
            "Epoch 6/200: 100%|██████████| 3/3 [00:01<00:00,  2.22it/s]\n",
            "Epoch 7/200: 100%|██████████| 3/3 [00:01<00:00,  2.20it/s]\n",
            "Epoch 8/200: 100%|██████████| 3/3 [00:01<00:00,  2.28it/s]\n",
            "Epoch 9/200: 100%|██████████| 3/3 [00:01<00:00,  1.89it/s]\n",
            "Epoch 10/200: 100%|██████████| 3/3 [00:02<00:00,  1.29it/s]\n",
            "Epoch 11/200: 100%|██████████| 3/3 [00:01<00:00,  1.67it/s]\n",
            "Epoch 12/200: 100%|██████████| 3/3 [00:01<00:00,  2.11it/s]\n",
            "Epoch 13/200: 100%|██████████| 3/3 [00:01<00:00,  2.22it/s]\n",
            "Epoch 14/200: 100%|██████████| 3/3 [00:02<00:00,  1.31it/s]\n",
            "Epoch 15/200: 100%|██████████| 3/3 [00:01<00:00,  1.67it/s]\n",
            "Epoch 16/200: 100%|██████████| 3/3 [00:01<00:00,  2.22it/s]\n",
            "Epoch 17/200: 100%|██████████| 3/3 [00:01<00:00,  2.02it/s]\n",
            "Epoch 18/200: 100%|██████████| 3/3 [00:02<00:00,  1.22it/s]\n",
            "Epoch 19/200: 100%|██████████| 3/3 [00:02<00:00,  1.46it/s]\n",
            "Epoch 20/200: 100%|██████████| 3/3 [00:01<00:00,  1.60it/s]\n",
            "Epoch 21/200: 100%|██████████| 3/3 [00:02<00:00,  1.47it/s]\n",
            "Epoch 22/200: 100%|██████████| 3/3 [00:02<00:00,  1.06it/s]\n",
            "Epoch 23/200: 100%|██████████| 3/3 [00:03<00:00,  1.06s/it]\n",
            "Epoch 24/200: 100%|██████████| 3/3 [00:03<00:00,  1.01s/it]\n",
            "Epoch 25/200: 100%|██████████| 3/3 [00:01<00:00,  1.95it/s]\n",
            "Epoch 26/200: 100%|██████████| 3/3 [00:01<00:00,  2.17it/s]\n",
            "Epoch 27/200: 100%|██████████| 3/3 [00:01<00:00,  2.25it/s]\n",
            "Epoch 28/200: 100%|██████████| 3/3 [00:01<00:00,  2.11it/s]\n",
            "Epoch 29/200: 100%|██████████| 3/3 [00:01<00:00,  2.19it/s]\n",
            "Epoch 30/200: 100%|██████████| 3/3 [00:01<00:00,  2.17it/s]\n",
            "Epoch 31/200: 100%|██████████| 3/3 [00:01<00:00,  2.20it/s]\n",
            "Epoch 32/200: 100%|██████████| 3/3 [00:02<00:00,  1.35it/s]\n",
            "Epoch 33/200: 100%|██████████| 3/3 [00:03<00:00,  1.23s/it]\n",
            "Epoch 34/200: 100%|██████████| 3/3 [00:01<00:00,  2.17it/s]\n",
            "Epoch 35/200: 100%|██████████| 3/3 [00:01<00:00,  2.18it/s]\n",
            "Epoch 36/200: 100%|██████████| 3/3 [00:01<00:00,  2.15it/s]\n",
            "Epoch 37/200: 100%|██████████| 3/3 [00:01<00:00,  2.12it/s]\n",
            "Epoch 38/200: 100%|██████████| 3/3 [00:01<00:00,  2.22it/s]\n",
            "Epoch 39/200: 100%|██████████| 3/3 [00:01<00:00,  2.17it/s]\n",
            "Epoch 40/200: 100%|██████████| 3/3 [00:01<00:00,  1.91it/s]\n",
            "Epoch 41/200: 100%|██████████| 3/3 [00:01<00:00,  1.61it/s]\n",
            "Epoch 42/200: 100%|██████████| 3/3 [00:01<00:00,  1.72it/s]\n",
            "Epoch 43/200: 100%|██████████| 3/3 [00:01<00:00,  2.18it/s]\n",
            "Epoch 44/200: 100%|██████████| 3/3 [00:01<00:00,  2.16it/s]\n",
            "Epoch 45/200: 100%|██████████| 3/3 [00:01<00:00,  2.21it/s]\n",
            "Epoch 46/200: 100%|██████████| 3/3 [00:01<00:00,  2.21it/s]\n",
            "Epoch 47/200: 100%|██████████| 3/3 [00:01<00:00,  2.09it/s]\n",
            "Epoch 48/200: 100%|██████████| 3/3 [00:01<00:00,  2.20it/s]\n",
            "Epoch 49/200: 100%|██████████| 3/3 [00:01<00:00,  2.13it/s]\n",
            "Epoch 50/200: 100%|██████████| 3/3 [00:01<00:00,  1.57it/s]\n",
            "Epoch 51/200: 100%|██████████| 3/3 [00:01<00:00,  1.66it/s]\n",
            "Epoch 52/200: 100%|██████████| 3/3 [00:01<00:00,  2.29it/s]\n",
            "Epoch 53/200: 100%|██████████| 3/3 [00:01<00:00,  2.19it/s]\n",
            "Epoch 54/200: 100%|██████████| 3/3 [00:01<00:00,  2.17it/s]\n",
            "Epoch 55/200: 100%|██████████| 3/3 [00:01<00:00,  2.23it/s]\n",
            "Epoch 56/200: 100%|██████████| 3/3 [00:01<00:00,  2.15it/s]\n",
            "Epoch 57/200: 100%|██████████| 3/3 [00:01<00:00,  2.16it/s]\n",
            "Epoch 58/200: 100%|██████████| 3/3 [00:01<00:00,  2.20it/s]\n",
            "Epoch 59/200: 100%|██████████| 3/3 [00:01<00:00,  1.63it/s]\n",
            "Epoch 60/200: 100%|██████████| 3/3 [00:01<00:00,  1.58it/s]\n",
            "Epoch 61/200: 100%|██████████| 3/3 [00:01<00:00,  1.94it/s]\n",
            "Epoch 62/200: 100%|██████████| 3/3 [00:01<00:00,  2.15it/s]\n",
            "Epoch 63/200: 100%|██████████| 3/3 [00:01<00:00,  2.18it/s]\n",
            "Epoch 64/200: 100%|██████████| 3/3 [00:01<00:00,  2.15it/s]\n",
            "Epoch 65/200: 100%|██████████| 3/3 [00:01<00:00,  2.21it/s]\n",
            "Epoch 66/200: 100%|██████████| 3/3 [00:01<00:00,  2.15it/s]\n",
            "Epoch 67/200: 100%|██████████| 3/3 [00:01<00:00,  2.20it/s]\n",
            "Epoch 68/200: 100%|██████████| 3/3 [00:01<00:00,  1.69it/s]\n",
            "Epoch 69/200: 100%|██████████| 3/3 [00:01<00:00,  1.60it/s]\n",
            "Epoch 70/200: 100%|██████████| 3/3 [00:01<00:00,  2.01it/s]\n",
            "Epoch 71/200: 100%|██████████| 3/3 [00:01<00:00,  2.10it/s]\n",
            "Epoch 72/200: 100%|██████████| 3/3 [00:01<00:00,  2.25it/s]\n",
            "Epoch 73/200: 100%|██████████| 3/3 [00:01<00:00,  2.12it/s]\n",
            "Epoch 74/200: 100%|██████████| 3/3 [00:01<00:00,  2.05it/s]\n",
            "Epoch 75/200: 100%|██████████| 3/3 [00:01<00:00,  2.20it/s]\n",
            "Epoch 76/200: 100%|██████████| 3/3 [00:01<00:00,  2.18it/s]\n",
            "Epoch 77/200: 100%|██████████| 3/3 [00:01<00:00,  1.82it/s]\n",
            "Epoch 78/200: 100%|██████████| 3/3 [00:01<00:00,  1.55it/s]\n",
            "Epoch 79/200: 100%|██████████| 3/3 [00:01<00:00,  1.86it/s]\n",
            "Epoch 80/200: 100%|██████████| 3/3 [00:01<00:00,  2.15it/s]\n",
            "Epoch 81/200: 100%|██████████| 3/3 [00:01<00:00,  2.15it/s]\n",
            "Epoch 82/200: 100%|██████████| 3/3 [00:01<00:00,  2.13it/s]\n",
            "Epoch 83/200: 100%|██████████| 3/3 [00:01<00:00,  2.15it/s]\n",
            "Epoch 84/200: 100%|██████████| 3/3 [00:01<00:00,  2.15it/s]\n",
            "Epoch 85/200: 100%|██████████| 3/3 [00:01<00:00,  2.16it/s]\n",
            "Epoch 86/200: 100%|██████████| 3/3 [00:01<00:00,  1.86it/s]\n",
            "Epoch 87/200: 100%|██████████| 3/3 [00:01<00:00,  1.64it/s]\n",
            "Epoch 88/200: 100%|██████████| 3/3 [00:01<00:00,  1.77it/s]\n",
            "Epoch 89/200: 100%|██████████| 3/3 [00:01<00:00,  2.13it/s]\n",
            "Epoch 90/200: 100%|██████████| 3/3 [00:01<00:00,  2.11it/s]\n",
            "Epoch 91/200: 100%|██████████| 3/3 [00:01<00:00,  2.13it/s]\n",
            "Epoch 92/200: 100%|██████████| 3/3 [00:01<00:00,  2.16it/s]\n",
            "Epoch 93/200: 100%|██████████| 3/3 [00:01<00:00,  2.11it/s]\n",
            "Epoch 94/200: 100%|██████████| 3/3 [00:01<00:00,  2.17it/s]\n",
            "Epoch 95/200: 100%|██████████| 3/3 [00:01<00:00,  1.99it/s]\n",
            "Epoch 96/200: 100%|██████████| 3/3 [00:01<00:00,  1.63it/s]\n",
            "Epoch 97/200: 100%|██████████| 3/3 [00:01<00:00,  1.74it/s]\n",
            "Epoch 98/200: 100%|██████████| 3/3 [00:01<00:00,  2.15it/s]\n",
            "Epoch 99/200: 100%|██████████| 3/3 [00:01<00:00,  2.21it/s]\n",
            "Epoch 100/200: 100%|██████████| 3/3 [00:01<00:00,  2.17it/s]\n",
            "Epoch 101/200: 100%|██████████| 3/3 [00:01<00:00,  2.19it/s]\n",
            "Epoch 102/200: 100%|██████████| 3/3 [00:01<00:00,  2.18it/s]\n",
            "Epoch 103/200: 100%|██████████| 3/3 [00:01<00:00,  2.12it/s]\n",
            "Epoch 104/200: 100%|██████████| 3/3 [00:01<00:00,  2.14it/s]\n",
            "Epoch 105/200: 100%|██████████| 3/3 [00:01<00:00,  1.50it/s]\n",
            "Epoch 106/200: 100%|██████████| 3/3 [00:01<00:00,  1.58it/s]\n",
            "Epoch 107/200: 100%|██████████| 3/3 [00:01<00:00,  2.20it/s]\n",
            "Epoch 108/200: 100%|██████████| 3/3 [00:01<00:00,  2.13it/s]\n",
            "Epoch 109/200: 100%|██████████| 3/3 [00:01<00:00,  2.13it/s]\n",
            "Epoch 110/200: 100%|██████████| 3/3 [00:01<00:00,  2.22it/s]\n",
            "Epoch 111/200: 100%|██████████| 3/3 [00:01<00:00,  2.17it/s]\n",
            "Epoch 112/200: 100%|██████████| 3/3 [00:01<00:00,  2.20it/s]\n",
            "Epoch 113/200: 100%|██████████| 3/3 [00:01<00:00,  2.09it/s]\n",
            "Epoch 114/200: 100%|██████████| 3/3 [00:01<00:00,  1.62it/s]\n",
            "Epoch 115/200: 100%|██████████| 3/3 [00:01<00:00,  1.62it/s]\n",
            "Epoch 116/200: 100%|██████████| 3/3 [00:01<00:00,  2.02it/s]\n",
            "Epoch 117/200: 100%|██████████| 3/3 [00:01<00:00,  2.23it/s]\n",
            "Epoch 118/200: 100%|██████████| 3/3 [00:01<00:00,  2.16it/s]\n",
            "Epoch 119/200: 100%|██████████| 3/3 [00:01<00:00,  2.16it/s]\n",
            "Epoch 120/200: 100%|██████████| 3/3 [00:01<00:00,  2.15it/s]\n",
            "Epoch 121/200: 100%|██████████| 3/3 [00:01<00:00,  2.18it/s]\n",
            "Epoch 122/200: 100%|██████████| 3/3 [00:01<00:00,  2.17it/s]\n",
            "Epoch 123/200: 100%|██████████| 3/3 [00:01<00:00,  1.81it/s]\n",
            "Epoch 124/200: 100%|██████████| 3/3 [00:01<00:00,  1.54it/s]\n",
            "Epoch 125/200: 100%|██████████| 3/3 [00:01<00:00,  1.94it/s]\n",
            "Epoch 126/200: 100%|██████████| 3/3 [00:01<00:00,  2.14it/s]\n",
            "Epoch 127/200: 100%|██████████| 3/3 [00:01<00:00,  2.19it/s]\n",
            "Epoch 128/200: 100%|██████████| 3/3 [00:01<00:00,  2.19it/s]\n",
            "Epoch 129/200: 100%|██████████| 3/3 [00:01<00:00,  2.21it/s]\n",
            "Epoch 130/200: 100%|██████████| 3/3 [00:01<00:00,  2.17it/s]\n",
            "Epoch 131/200: 100%|██████████| 3/3 [00:01<00:00,  2.22it/s]\n",
            "Epoch 132/200: 100%|██████████| 3/3 [00:01<00:00,  1.90it/s]\n",
            "Epoch 133/200: 100%|██████████| 3/3 [00:01<00:00,  1.53it/s]\n",
            "Epoch 134/200: 100%|██████████| 3/3 [00:01<00:00,  1.79it/s]\n",
            "Epoch 135/200: 100%|██████████| 3/3 [00:01<00:00,  2.17it/s]\n",
            "Epoch 136/200: 100%|██████████| 3/3 [00:01<00:00,  2.20it/s]\n",
            "Epoch 137/200: 100%|██████████| 3/3 [00:01<00:00,  2.20it/s]\n",
            "Epoch 138/200: 100%|██████████| 3/3 [00:01<00:00,  2.17it/s]\n",
            "Epoch 139/200: 100%|██████████| 3/3 [00:01<00:00,  2.16it/s]\n",
            "Epoch 140/200: 100%|██████████| 3/3 [00:01<00:00,  2.20it/s]\n",
            "Epoch 141/200: 100%|██████████| 3/3 [00:01<00:00,  2.14it/s]\n",
            "Epoch 142/200: 100%|██████████| 3/3 [00:01<00:00,  1.60it/s]\n",
            "Epoch 143/200: 100%|██████████| 3/3 [00:01<00:00,  1.68it/s]\n",
            "Epoch 144/200: 100%|██████████| 3/3 [00:01<00:00,  2.15it/s]\n",
            "Epoch 145/200: 100%|██████████| 3/3 [00:01<00:00,  2.23it/s]\n",
            "Epoch 146/200: 100%|██████████| 3/3 [00:01<00:00,  2.17it/s]\n",
            "Epoch 147/200: 100%|██████████| 3/3 [00:01<00:00,  2.12it/s]\n",
            "Epoch 148/200: 100%|██████████| 3/3 [00:01<00:00,  2.22it/s]\n",
            "Epoch 149/200: 100%|██████████| 3/3 [00:01<00:00,  2.05it/s]\n",
            "Epoch 150/200: 100%|██████████| 3/3 [00:01<00:00,  2.28it/s]\n",
            "Epoch 151/200: 100%|██████████| 3/3 [00:01<00:00,  1.62it/s]\n",
            "Epoch 152/200: 100%|██████████| 3/3 [00:01<00:00,  1.59it/s]\n",
            "Epoch 153/200: 100%|██████████| 3/3 [00:01<00:00,  2.09it/s]\n",
            "Epoch 154/200: 100%|██████████| 3/3 [00:01<00:00,  2.14it/s]\n",
            "Epoch 155/200: 100%|██████████| 3/3 [00:01<00:00,  2.22it/s]\n",
            "Epoch 156/200: 100%|██████████| 3/3 [00:01<00:00,  2.18it/s]\n",
            "Epoch 157/200: 100%|██████████| 3/3 [00:01<00:00,  2.19it/s]\n",
            "Epoch 158/200: 100%|██████████| 3/3 [00:01<00:00,  2.17it/s]\n",
            "Epoch 159/200: 100%|██████████| 3/3 [00:01<00:00,  2.16it/s]\n",
            "Epoch 160/200: 100%|██████████| 3/3 [00:01<00:00,  1.76it/s]\n",
            "Epoch 161/200: 100%|██████████| 3/3 [00:01<00:00,  1.61it/s]\n",
            "Epoch 162/200: 100%|██████████| 3/3 [00:01<00:00,  1.97it/s]\n",
            "Epoch 163/200: 100%|██████████| 3/3 [00:01<00:00,  2.20it/s]\n",
            "Epoch 164/200: 100%|██████████| 3/3 [00:01<00:00,  2.21it/s]\n",
            "Epoch 165/200: 100%|██████████| 3/3 [00:01<00:00,  2.17it/s]\n",
            "Epoch 166/200: 100%|██████████| 3/3 [00:01<00:00,  2.18it/s]\n",
            "Epoch 167/200: 100%|██████████| 3/3 [00:01<00:00,  2.15it/s]\n",
            "Epoch 168/200: 100%|██████████| 3/3 [00:01<00:00,  2.12it/s]\n",
            "Epoch 169/200: 100%|██████████| 3/3 [00:01<00:00,  1.89it/s]\n",
            "Epoch 170/200: 100%|██████████| 3/3 [00:01<00:00,  1.63it/s]\n",
            "Epoch 171/200: 100%|██████████| 3/3 [00:01<00:00,  1.80it/s]\n",
            "Epoch 172/200: 100%|██████████| 3/3 [00:01<00:00,  2.22it/s]\n",
            "Epoch 173/200: 100%|██████████| 3/3 [00:01<00:00,  2.19it/s]\n",
            "Epoch 174/200: 100%|██████████| 3/3 [00:01<00:00,  2.17it/s]\n",
            "Epoch 175/200: 100%|██████████| 3/3 [00:01<00:00,  2.16it/s]\n",
            "Epoch 176/200: 100%|██████████| 3/3 [00:01<00:00,  2.21it/s]\n",
            "Epoch 177/200: 100%|██████████| 3/3 [00:01<00:00,  2.16it/s]\n",
            "Epoch 178/200: 100%|██████████| 3/3 [00:01<00:00,  2.08it/s]\n",
            "Epoch 179/200: 100%|██████████| 3/3 [00:01<00:00,  1.54it/s]\n",
            "Epoch 180/200: 100%|██████████| 3/3 [00:01<00:00,  1.65it/s]\n",
            "Epoch 181/200: 100%|██████████| 3/3 [00:01<00:00,  2.18it/s]\n",
            "Epoch 182/200: 100%|██████████| 3/3 [00:01<00:00,  2.15it/s]\n",
            "Epoch 183/200: 100%|██████████| 3/3 [00:01<00:00,  2.21it/s]\n",
            "Epoch 184/200: 100%|██████████| 3/3 [00:01<00:00,  2.19it/s]\n",
            "Epoch 185/200: 100%|██████████| 3/3 [00:01<00:00,  2.22it/s]\n",
            "Epoch 186/200: 100%|██████████| 3/3 [00:01<00:00,  2.21it/s]\n",
            "Epoch 187/200: 100%|██████████| 3/3 [00:01<00:00,  2.18it/s]\n",
            "Epoch 188/200: 100%|██████████| 3/3 [00:01<00:00,  1.67it/s]\n",
            "Epoch 189/200: 100%|██████████| 3/3 [00:01<00:00,  1.51it/s]\n",
            "Epoch 190/200: 100%|██████████| 3/3 [00:01<00:00,  2.10it/s]\n",
            "Epoch 191/200: 100%|██████████| 3/3 [00:01<00:00,  2.16it/s]\n",
            "Epoch 192/200: 100%|██████████| 3/3 [00:01<00:00,  2.18it/s]\n",
            "Epoch 193/200: 100%|██████████| 3/3 [00:01<00:00,  2.15it/s]\n",
            "Epoch 194/200: 100%|██████████| 3/3 [00:01<00:00,  2.20it/s]\n",
            "Epoch 195/200: 100%|██████████| 3/3 [00:01<00:00,  2.18it/s]\n",
            "Epoch 196/200: 100%|██████████| 3/3 [00:01<00:00,  2.15it/s]\n",
            "Epoch 197/200: 100%|██████████| 3/3 [00:01<00:00,  1.79it/s]\n",
            "Epoch 198/200: 100%|██████████| 3/3 [00:01<00:00,  1.58it/s]\n",
            "Epoch 199/200: 100%|██████████| 3/3 [00:01<00:00,  1.84it/s]\n",
            "Epoch 200/200: 100%|██████████| 3/3 [00:01<00:00,  2.19it/s]\n"
          ]
        }
      ]
    }
  ]
}