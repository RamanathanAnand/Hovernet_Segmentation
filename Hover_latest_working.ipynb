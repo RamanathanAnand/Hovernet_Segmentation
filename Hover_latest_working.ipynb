{
  "nbformat": 4,
  "nbformat_minor": 0,
  "metadata": {
    "colab": {
      "provenance": []
    },
    "kernelspec": {
      "name": "python3",
      "display_name": "Python 3"
    },
    "language_info": {
      "name": "python"
    }
  },
  "cells": [
    {
      "cell_type": "code",
      "execution_count": 1,
      "metadata": {
        "id": "ebZCoy7osOGk",
        "colab": {
          "base_uri": "https://localhost:8080/"
        },
        "outputId": "d6e35d13-4ecc-4920-bcaa-06b4c8f27861"
      },
      "outputs": [
        {
          "output_type": "stream",
          "name": "stdout",
          "text": [
            "Mounted at /content/drive\n"
          ]
        }
      ],
      "source": [
        "\n",
        "from google.colab import drive\n",
        "drive.mount('/content/drive')\n"
      ]
    },
    {
      "cell_type": "code",
      "source": [
        "import torch\n",
        "import os\n",
        "import torch.nn as nn\n",
        "import torch.optim as optim\n",
        "from torch.utils.data import DataLoader, Dataset\n",
        "from torchvision import transforms\n",
        "from tqdm import tqdm"
      ],
      "metadata": {
        "id": "8PsR60AMCUny"
      },
      "execution_count": 2,
      "outputs": []
    },
    {
      "cell_type": "code",
      "source": [
        "class HoverNet(nn.Module):\n",
        "    def __init__(self):\n",
        "        super(HoverNet, self).__init__()\n",
        "        # Define your HoverNet architecture here\n",
        "        self.conv1 = nn.Conv2d(3, 64, kernel_size=3, stride=1, padding=1)\n",
        "        self.conv2 = nn.Conv2d(64, 1, kernel_size=3, stride=1, padding=1)\n",
        "\n",
        "    def forward(self, x):\n",
        "        x = nn.functional.relu(self.conv1(x))\n",
        "        x = self.conv2(x)\n",
        "        return x"
      ],
      "metadata": {
        "id": "stc4gRpACUqy"
      },
      "execution_count": 3,
      "outputs": []
    },
    {
      "cell_type": "code",
      "source": [
        "class CustomDataset(Dataset):\n",
        "    def __init__(self, image_folder, mask_folder, transform=None):\n",
        "        self.image_folder = image_folder\n",
        "        self.mask_folder = mask_folder\n",
        "        self.transform = transform\n",
        "        self.image_paths = sorted(os.listdir(image_folder))  # Ensure images and masks are properly matched\n",
        "        self.mask_paths = sorted(os.listdir(mask_folder))\n",
        "\n",
        "    def __len__(self):\n",
        "        return len(self.image_paths)  # Return the length of the dataset\n",
        "\n",
        "    def __getitem__(self, idx):\n",
        "        image_path = os.path.join(self.image_folder, self.image_paths[idx])\n",
        "        mask_path = os.path.join(self.mask_folder, self.mask_paths[idx])\n",
        "\n",
        "        image = Image.open(image_path).convert('RGB')  # Open image in RGB mode\n",
        "        mask = Image.open(mask_path).convert('L')  # Open mask as a grayscale image\n",
        "\n",
        "        if self.transform:\n",
        "            image = self.transform(image)\n",
        "            mask = self.transform(mask)\n",
        "\n",
        "        return image, mask\n"
      ],
      "metadata": {
        "id": "kN4eYI2CCiDq"
      },
      "execution_count": 12,
      "outputs": []
    },
    {
      "cell_type": "code",
      "source": [
        "# Define transforms if needed\n",
        "transform = transforms.Compose([\n",
        "    transforms.Resize((128, 128)),  # Resize images and masks to the same size\n",
        "    transforms.ToTensor(),  # Convert images and masks to tensors\n",
        "])\n"
      ],
      "metadata": {
        "id": "TuvL6grlCiI8"
      },
      "execution_count": 13,
      "outputs": []
    },
    {
      "cell_type": "code",
      "source": [
        "\n",
        "# Define dataset and dataloader\n",
        "image_folder = '/content/drive/MyDrive/Hover/Images'\n",
        "mask_folder = '/content/drive/MyDrive/Hover/Mask'\n",
        "batch_size = 8\n",
        "learning_rate = 0.0001  # Set your desired learning rate value\n",
        "\n",
        "dataset = CustomDataset(image_folder=image_folder, mask_folder=mask_folder, transform=transform)\n",
        "dataloader = DataLoader(dataset, batch_size=batch_size, shuffle=True)\n"
      ],
      "metadata": {
        "id": "fwl-prXaCiLk"
      },
      "execution_count": 14,
      "outputs": []
    },
    {
      "cell_type": "code",
      "source": [
        "import torch.nn as nn\n",
        "import torch.optim as optim\n"
      ],
      "metadata": {
        "id": "koi7JgngCvdJ"
      },
      "execution_count": 15,
      "outputs": []
    },
    {
      "cell_type": "code",
      "source": [
        "# Instantiate your HoverNet model\n",
        "hovernet = HoverNet()"
      ],
      "metadata": {
        "id": "ipMjsRJhDnAa"
      },
      "execution_count": 16,
      "outputs": []
    },
    {
      "cell_type": "code",
      "source": [
        "# Define the loss function (criterion) and optimizer\n",
        "criterion = nn.CrossEntropyLoss()\n",
        "optimizer = optim.Adam(hovernet.parameters(), lr=learning_rate)\n"
      ],
      "metadata": {
        "id": "mLJVGkDlDnGz"
      },
      "execution_count": 17,
      "outputs": []
    },
    {
      "cell_type": "code",
      "source": [
        "num_epochs = 20  # Define the number of epochs for training\n",
        "from PIL import Image"
      ],
      "metadata": {
        "id": "1SSYH-wADnJ6"
      },
      "execution_count": 18,
      "outputs": []
    },
    {
      "cell_type": "code",
      "source": [
        "for epoch in range(num_epochs):\n",
        "    hovernet.train()  # Set model to training mode\n",
        "    for images, masks in tqdm(dataloader, desc=f'Epoch {epoch + 1}/{num_epochs}'):\n",
        "        optimizer.zero_grad()  # Zero the gradients\n",
        "        outputs = hovernet(images)  # Forward pass\n",
        "        loss = criterion(outputs, masks.float())  # Convert masks to float\n",
        "         # Calculate the loss\n",
        "        loss.backward()  # Backward pass\n",
        "        optimizer.step()  # Update weights"
      ],
      "metadata": {
        "colab": {
          "base_uri": "https://localhost:8080/"
        },
        "id": "rnx1K-mhDziy",
        "outputId": "bbe9f188-2fe8-4873-b8fd-478bc1b98b4b"
      },
      "execution_count": 19,
      "outputs": [
        {
          "output_type": "stream",
          "name": "stderr",
          "text": [
            "Epoch 1/20: 100%|██████████| 3/3 [00:16<00:00,  5.53s/it]\n",
            "Epoch 2/20: 100%|██████████| 3/3 [00:01<00:00,  2.24it/s]\n",
            "Epoch 3/20: 100%|██████████| 3/3 [00:01<00:00,  1.67it/s]\n",
            "Epoch 4/20: 100%|██████████| 3/3 [00:01<00:00,  1.91it/s]\n",
            "Epoch 5/20: 100%|██████████| 3/3 [00:01<00:00,  2.28it/s]\n",
            "Epoch 6/20: 100%|██████████| 3/3 [00:01<00:00,  2.21it/s]\n",
            "Epoch 7/20: 100%|██████████| 3/3 [00:01<00:00,  1.94it/s]\n",
            "Epoch 8/20: 100%|██████████| 3/3 [00:01<00:00,  1.64it/s]\n",
            "Epoch 9/20: 100%|██████████| 3/3 [00:01<00:00,  1.71it/s]\n",
            "Epoch 10/20: 100%|██████████| 3/3 [00:01<00:00,  2.18it/s]\n",
            "Epoch 11/20: 100%|██████████| 3/3 [00:01<00:00,  2.18it/s]\n",
            "Epoch 12/20: 100%|██████████| 3/3 [00:01<00:00,  2.21it/s]\n",
            "Epoch 13/20: 100%|██████████| 3/3 [00:01<00:00,  2.21it/s]\n",
            "Epoch 14/20: 100%|██████████| 3/3 [00:01<00:00,  2.24it/s]\n",
            "Epoch 15/20: 100%|██████████| 3/3 [00:01<00:00,  2.20it/s]\n",
            "Epoch 16/20: 100%|██████████| 3/3 [00:01<00:00,  2.16it/s]\n",
            "Epoch 17/20: 100%|██████████| 3/3 [00:01<00:00,  1.66it/s]\n",
            "Epoch 18/20: 100%|██████████| 3/3 [00:01<00:00,  1.63it/s]\n",
            "Epoch 19/20: 100%|██████████| 3/3 [00:01<00:00,  2.04it/s]\n",
            "Epoch 20/20: 100%|██████████| 3/3 [00:01<00:00,  2.20it/s]\n"
          ]
        }
      ]
    }
  ]
}